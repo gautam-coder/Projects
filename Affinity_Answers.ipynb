{
  "nbformat": 4,
  "nbformat_minor": 0,
  "metadata": {
    "colab": {
      "name": "Affinity_Answers.ipynb",
      "provenance": [],
      "collapsed_sections": [],
      "authorship_tag": "ABX9TyOcRdkki5GRsSSSNpg7gJO9",
      "include_colab_link": true
    },
    "kernelspec": {
      "name": "python3",
      "display_name": "Python 3"
    },
    "language_info": {
      "name": "python"
    }
  },
  "cells": [
    {
      "cell_type": "markdown",
      "metadata": {
        "id": "view-in-github",
        "colab_type": "text"
      },
      "source": [
        "<a href=\"https://colab.research.google.com/github/gautam-coder/Projects/blob/main/Affinity_Answers.ipynb\" target=\"_parent\"><img src=\"https://colab.research.google.com/assets/colab-badge.svg\" alt=\"Open In Colab\"/></a>"
      ]
    },
    {
      "cell_type": "code",
      "execution_count": 1,
      "metadata": {
        "id": "mnAcQK6IX2fg",
        "colab": {
          "base_uri": "https://localhost:8080/"
        },
        "outputId": "602513df-969b-4a7f-9796-b13d4ff43528"
      },
      "outputs": [
        {
          "output_type": "stream",
          "name": "stdout",
          "text": [
            "0.25\n"
          ]
        }
      ],
      "source": [
        "#keep it as simple as possible \n",
        "#the text is given as sentence form or a sentence is given as text\n",
        "def degree_Profane(text):\n",
        "  all_lower=[i.lower() for i in text.split(\" \")]# the given text is to split and and take as all words in lower case by takking lower function\n",
        "  profane_words=[\"shit\",\"bad\",\"fool\",\"mad\"]# the list of profane words list is given\n",
        "  degree_p=sum(1 for i in all_lower if i in profane_words)/len(all_lower)# sum of the occurence of the profane words and divide the len of the string  to know the degree\n",
        "  print(degree_p)#print the degree of the profane words\n",
        "degree_Profane(\"anshu is mad angel\")# calling the degree_profane function\n"
      ]
    }
  ]
}