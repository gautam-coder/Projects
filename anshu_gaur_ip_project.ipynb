{
  "nbformat": 4,
  "nbformat_minor": 0,
  "metadata": {
    "kernelspec": {
      "display_name": "Python 3",
      "language": "python",
      "name": "python3"
    },
    "language_info": {
      "codemirror_mode": {
        "name": "ipython",
        "version": 3
      },
      "file_extension": ".py",
      "mimetype": "text/x-python",
      "name": "python",
      "nbconvert_exporter": "python",
      "pygments_lexer": "ipython3",
      "version": "3.7.0"
    },
    "colab": {
      "name": "anshu_gaur_ip_project.ipynb",
      "provenance": [],
      "collapsed_sections": [],
      "include_colab_link": true
    }
  },
  "cells": [
    {
      "cell_type": "markdown",
      "metadata": {
        "id": "view-in-github",
        "colab_type": "text"
      },
      "source": [
        "<a href=\"https://colab.research.google.com/github/gautam-coder/Projects/blob/main/anshu_gaur_ip_project.ipynb\" target=\"_parent\"><img src=\"https://colab.research.google.com/assets/colab-badge.svg\" alt=\"Open In Colab\"/></a>"
      ]
    },
    {
      "cell_type": "markdown",
      "metadata": {
        "id": "PtsHG-MmBxHw"
      },
      "source": [
        "# Students performance in exams 2020"
      ]
    },
    {
      "cell_type": "code",
      "metadata": {
        "id": "iAD6SeO-BxIS"
      },
      "source": [
        "import pandas as pd\n",
        "import numpy as np\n",
        "import matplotlib.pyplot as plt\n",
        "\n",
        "\n",
        "%matplotlib inline\n"
      ],
      "execution_count": 4,
      "outputs": []
    },
    {
      "cell_type": "code",
      "metadata": {
        "colab": {
          "base_uri": "https://localhost:8080/",
          "height": 538
        },
        "id": "L8NqxRmOBxIW",
        "outputId": "119a4a95-ab45-4fcd-9c4e-3d30ec8fc446"
      },
      "source": [
        "df=pd.read_csv(\"StudentsPerformance.csv\")\r\n",
        "def read_csv():\r\n",
        "  print(\"\\n 1. To View the Top Data Press 1\\n 2. To View the Whole Data Press 2\\n 3. To View the Bottom Data  Press 3\\n 4. Enter Any Number To Exit\")\r\n",
        "  t=0\r\n",
        "  while(t==0):\r\n",
        "    print()\r\n",
        "    s=int(input(\"Enter the Number :- \"))\r\n",
        "    if(s==1):\r\n",
        "      print(\"Top Data\")\r\n",
        "      print(df.head())\r\n",
        "    elif(s==2):\r\n",
        "      print(\"Whole Data\")\r\n",
        "      print(df)\r\n",
        "    elif(s==3):\r\n",
        "      print(\"Bottom Data\")\r\n",
        "      print(df.tail())\r\n",
        "    else:\r\n",
        "      t=1\r\n",
        "      print(\"Envalid Number \")\r\n",
        "  \r\n"
      ],
      "execution_count": 30,
      "outputs": [
        {
          "output_type": "stream",
          "text": [
            "\n",
            " 1. To View the Top Data Press 1\n",
            " 2. To View the Whole Data Press 2\n",
            " 3. To View the Bottom Data  Press 3\n",
            " 4. Enter Any Number To Exit\n",
            "Enter the Number :- 4\n",
            "Envalid Number \n"
          ],
          "name": "stdout"
        },
        {
          "output_type": "execute_result",
          "data": {
            "text/html": [
              "<div>\n",
              "<style scoped>\n",
              "    .dataframe tbody tr th:only-of-type {\n",
              "        vertical-align: middle;\n",
              "    }\n",
              "\n",
              "    .dataframe tbody tr th {\n",
              "        vertical-align: top;\n",
              "    }\n",
              "\n",
              "    .dataframe thead th {\n",
              "        text-align: right;\n",
              "    }\n",
              "</style>\n",
              "<table border=\"1\" class=\"dataframe\">\n",
              "  <thead>\n",
              "    <tr style=\"text-align: right;\">\n",
              "      <th></th>\n",
              "      <th>gender</th>\n",
              "      <th>race/ethnicity</th>\n",
              "      <th>parental level of education</th>\n",
              "      <th>lunch</th>\n",
              "      <th>test preparation course</th>\n",
              "      <th>math score</th>\n",
              "      <th>reading score</th>\n",
              "      <th>writing score</th>\n",
              "    </tr>\n",
              "  </thead>\n",
              "  <tbody>\n",
              "    <tr>\n",
              "      <th>0</th>\n",
              "      <td>female</td>\n",
              "      <td>group B</td>\n",
              "      <td>bachelor's degree</td>\n",
              "      <td>standard</td>\n",
              "      <td>none</td>\n",
              "      <td>72</td>\n",
              "      <td>72</td>\n",
              "      <td>74</td>\n",
              "    </tr>\n",
              "    <tr>\n",
              "      <th>1</th>\n",
              "      <td>female</td>\n",
              "      <td>group C</td>\n",
              "      <td>some college</td>\n",
              "      <td>standard</td>\n",
              "      <td>completed</td>\n",
              "      <td>69</td>\n",
              "      <td>90</td>\n",
              "      <td>88</td>\n",
              "    </tr>\n",
              "    <tr>\n",
              "      <th>2</th>\n",
              "      <td>female</td>\n",
              "      <td>group B</td>\n",
              "      <td>master's degree</td>\n",
              "      <td>standard</td>\n",
              "      <td>none</td>\n",
              "      <td>90</td>\n",
              "      <td>95</td>\n",
              "      <td>93</td>\n",
              "    </tr>\n",
              "    <tr>\n",
              "      <th>3</th>\n",
              "      <td>male</td>\n",
              "      <td>group A</td>\n",
              "      <td>associate's degree</td>\n",
              "      <td>free/reduced</td>\n",
              "      <td>none</td>\n",
              "      <td>47</td>\n",
              "      <td>57</td>\n",
              "      <td>44</td>\n",
              "    </tr>\n",
              "    <tr>\n",
              "      <th>4</th>\n",
              "      <td>male</td>\n",
              "      <td>group C</td>\n",
              "      <td>some college</td>\n",
              "      <td>standard</td>\n",
              "      <td>none</td>\n",
              "      <td>76</td>\n",
              "      <td>78</td>\n",
              "      <td>75</td>\n",
              "    </tr>\n",
              "    <tr>\n",
              "      <th>...</th>\n",
              "      <td>...</td>\n",
              "      <td>...</td>\n",
              "      <td>...</td>\n",
              "      <td>...</td>\n",
              "      <td>...</td>\n",
              "      <td>...</td>\n",
              "      <td>...</td>\n",
              "      <td>...</td>\n",
              "    </tr>\n",
              "    <tr>\n",
              "      <th>995</th>\n",
              "      <td>female</td>\n",
              "      <td>group E</td>\n",
              "      <td>master's degree</td>\n",
              "      <td>standard</td>\n",
              "      <td>completed</td>\n",
              "      <td>88</td>\n",
              "      <td>99</td>\n",
              "      <td>95</td>\n",
              "    </tr>\n",
              "    <tr>\n",
              "      <th>996</th>\n",
              "      <td>male</td>\n",
              "      <td>group C</td>\n",
              "      <td>high school</td>\n",
              "      <td>free/reduced</td>\n",
              "      <td>none</td>\n",
              "      <td>62</td>\n",
              "      <td>55</td>\n",
              "      <td>55</td>\n",
              "    </tr>\n",
              "    <tr>\n",
              "      <th>997</th>\n",
              "      <td>female</td>\n",
              "      <td>group C</td>\n",
              "      <td>high school</td>\n",
              "      <td>free/reduced</td>\n",
              "      <td>completed</td>\n",
              "      <td>59</td>\n",
              "      <td>71</td>\n",
              "      <td>65</td>\n",
              "    </tr>\n",
              "    <tr>\n",
              "      <th>998</th>\n",
              "      <td>female</td>\n",
              "      <td>group D</td>\n",
              "      <td>some college</td>\n",
              "      <td>standard</td>\n",
              "      <td>completed</td>\n",
              "      <td>68</td>\n",
              "      <td>78</td>\n",
              "      <td>77</td>\n",
              "    </tr>\n",
              "    <tr>\n",
              "      <th>999</th>\n",
              "      <td>female</td>\n",
              "      <td>group D</td>\n",
              "      <td>some college</td>\n",
              "      <td>free/reduced</td>\n",
              "      <td>none</td>\n",
              "      <td>77</td>\n",
              "      <td>86</td>\n",
              "      <td>86</td>\n",
              "    </tr>\n",
              "  </tbody>\n",
              "</table>\n",
              "<p>1000 rows × 8 columns</p>\n",
              "</div>"
            ],
            "text/plain": [
              "     gender race/ethnicity  ... reading score writing score\n",
              "0    female        group B  ...            72            74\n",
              "1    female        group C  ...            90            88\n",
              "2    female        group B  ...            95            93\n",
              "3      male        group A  ...            57            44\n",
              "4      male        group C  ...            78            75\n",
              "..      ...            ...  ...           ...           ...\n",
              "995  female        group E  ...            99            95\n",
              "996    male        group C  ...            55            55\n",
              "997  female        group C  ...            71            65\n",
              "998  female        group D  ...            78            77\n",
              "999  female        group D  ...            86            86\n",
              "\n",
              "[1000 rows x 8 columns]"
            ]
          },
          "metadata": {
            "tags": []
          },
          "execution_count": 30
        }
      ]
    },
    {
      "cell_type": "code",
      "metadata": {
        "id": "VDD87vgSBxIe",
        "colab": {
          "base_uri": "https://localhost:8080/"
        },
        "outputId": "0f6392dc-097e-4ffe-ee1e-8729b9def244"
      },
      "source": [
        "def data_analysis():\r\n",
        "  print(\" 1. Display The Shape of Data\\n 2. Display The Description Of Data\\n 3. Display The Null Value Count\\n 4. Press Any Value To Exit\\n\")\r\n",
        "  t=0\r\n",
        "  while(t==0):\r\n",
        "    print()\r\n",
        "    s=int(input(\"Enter The Number:- \"))\r\n",
        "    if s==1:\r\n",
        "      print(\"The Shape of Data is :-\")\r\n",
        "      print(\"Row is {} \\nColumns is {}\".format(df.shape[0],df.shape[1]))\r\n",
        "    elif s==2:\r\n",
        "      print(\"Description of Data is:-\")\r\n",
        "      print(df.describe())\r\n",
        "    elif s==3:\r\n",
        "      print(\"Null Values is:-\")\r\n",
        "      print(df.isnull().sum())\r\n",
        "    else:\r\n",
        "      print(\"Envaild Number\")\r\n",
        "      t=1\r\n"
      ],
      "execution_count": 29,
      "outputs": [
        {
          "output_type": "stream",
          "text": [
            " 1. Display The Shape of Data\n",
            " 2. Display The Description Of Data\n",
            " 3. Display The Null Value Count\n",
            " 4. Press Any Value To Exit\n",
            "Enter The Number:- 3\n",
            "Null Values is:-\n",
            "gender                         0\n",
            "race/ethnicity                 0\n",
            "parental level of education    0\n",
            "lunch                          0\n",
            "test preparation course        0\n",
            "math score                     0\n",
            "reading score                  0\n",
            "writing score                  0\n",
            "dtype: int64\n",
            "Enter The Number:- 4\n",
            "Envaild Number\n"
          ],
          "name": "stdout"
        }
      ]
    },
    {
      "cell_type": "code",
      "metadata": {
        "id": "hKw7VDLkBxIp",
        "colab": {
          "base_uri": "https://localhost:8080/",
          "height": 452
        },
        "outputId": "99c20897-2fa7-4b93-cda6-c4c075447591"
      },
      "source": [
        "def plotting():\n",
        "  gender=df['gender']\n",
        "  math=df['math score']\n",
        "  reading=df['reading score']\n",
        "  writing=df['writing score']\n",
        "  t=0\n",
        "  print(\" 1. Display the Line Plot of Math Score in Gender\\n 2.Display the Line Plot of Reading Score in Gender\\n 3.Display the Line Plot of Writing Score in Gender\\n 4. Display the Histogram\\n 5. Display the Density\\n 6. Display the Box plot\\n 7. Press any number to Exit\\n\")\n",
        "\n",
        "  while(t==0):\n",
        "    print()  \n",
        "    s=int(input(\"Enter The Number:- \")) \n",
        "    if s==1:\n",
        "      plt.ylabel(\"Maths\")\n",
        "      plt.xlabel(\"Gender\")\n",
        "      plt.plot(gender,math)\n",
        "      plt.show()\n",
        "    elif s==2:\n",
        "      plt.ylabel(\"Reading\")\n",
        "      plt.xlabel(\"Gender\")\n",
        "      plt.scatter(gender,reading)\n",
        "      plt.show()\n",
        "    elif s==3:\n",
        "      plt.ylabel(\"Writing\")\n",
        "      plt.xlabel(\"Gender\")\n",
        "      plt.bar(gender,writing)\n",
        "      plt.show()\n",
        "    elif s==4:\n",
        "      df.hist()\n",
        "      plt.show()\n",
        "    elif s==5:\n",
        "      df.plot.density()\n",
        "      plt.show()\n",
        "    elif s==6:\n",
        "      df.plot.box()\n",
        "      plt.show()\n",
        "    else:\n",
        "      print(\"Envaild Number\")\n",
        "      t=1\n"
      ],
      "execution_count": 41,
      "outputs": [
        {
          "output_type": "stream",
          "text": [
            " 1. Display the Line Plot of Math Score in Gender\n",
            " 2.Display the Line Plot of Reading Score in Gender\n",
            " 3.Display the Line Plot of Writing Score in Gender\n",
            " 4. Display the Histogram\n",
            " 5. Display the Density\n",
            " 6. Display the Box plot\n",
            " 7. Press any number to Exit\n",
            "\n",
            "Enter The Number:- 6\n"
          ],
          "name": "stdout"
        },
        {
          "output_type": "display_data",
          "data": {
            "image/png": "[encoded data removed]",
            "text/plain": [
              "<Figure size 432x288 with 1 Axes>"
            ]
          },
          "metadata": {
            "tags": [],
            "needs_background": "light"
          }
        },
        {
          "output_type": "stream",
          "text": [
            "Enter The Number:- 8\n",
            "Envaild Number\n"
          ],
          "name": "stdout"
        }
      ]
    },
    {
      "cell_type": "code",
      "metadata": {
        "id": "B409Ui2CBxIw"
      },
      "source": [
        "!pip import art\r\n",
        "from art import *\r\n"
      ],
      "execution_count": 43,
      "outputs": []
    },
    {
      "cell_type": "code",
      "metadata": {
        "colab": {
          "base_uri": "https://localhost:8080/"
        },
        "id": "3AqyaDKqYmhy",
        "outputId": "c8e45a59-0bc9-4ae9-a097-a336652364f1"
      },
      "source": [
        "\r\n",
        "t=0\r\n",
        "while(t==0):\r\n",
        "  tprint(\"Welcome To Menu Driven\")\r\n",
        "  print(\" 1. To Read Data\\n 2. To Data Analysis\\n 3. To Data visualization\\n 4. Exit The Program Press any Number\")\r\n",
        "  print()\r\n",
        "  s=int(input(\"Enter the Number:- \"))\r\n",
        "  if s==1:\r\n",
        "    tprint(\"Read Data\")\r\n",
        "    read_csv()\r\n",
        "  elif s==2:\r\n",
        "    tprint(\"Data Analysis\")\r\n",
        "    data_analysis()\r\n",
        "  elif s==3:\r\n",
        "    tprint(\"Data Visualization\")\r\n",
        "    plotting()\r\n",
        "  else:\r\n",
        "    tprint(\"Thank You \")\r\n",
        "    t=1\r\n",
        "\r\n",
        "\r\n"
      ],
      "execution_count": 56,
      "outputs": [
        {
          "output_type": "stream",
          "text": [
            "__        __       _                                 _____          __  __                       ____         _                     \r\n",
            "\\ \\      / /  ___ | |  ___   ___   _ __ ___    ___  |_   _|  ___   |  \\/  |  ___  _ __   _   _  |  _ \\  _ __ (_)__   __  ___  _ __  \r\n",
            " \\ \\ /\\ / /  / _ \\| | / __| / _ \\ | '_ ` _ \\  / _ \\   | |   / _ \\  | |\\/| | / _ \\| '_ \\ | | | | | | | || '__|| |\\ \\ / / / _ \\| '_ \\ \r\n",
            "  \\ V  V /  |  __/| || (__ | (_) || | | | | ||  __/   | |  | (_) | | |  | ||  __/| | | || |_| | | |_| || |   | | \\ V / |  __/| | | |\r\n",
            "   \\_/\\_/    \\___||_| \\___| \\___/ |_| |_| |_| \\___|   |_|   \\___/  |_|  |_| \\___||_| |_| \\__,_| |____/ |_|   |_|  \\_/   \\___||_| |_|\r\n",
            "                                                                                                                                    \r\n",
            "\n",
            " 1. To Read Data\n",
            " 2. To Data Analysis\n",
            " 3. To Data visualization\n",
            " 4. Exit The Program Press any Number\n",
            "\n",
            "Enter the Number:- 4\n",
            " _____  _                    _     __   __               \n",
            "|_   _|| |__    __ _  _ __  | | __ \\ \\ / /  ___   _   _  \n",
            "  | |  | '_ \\  / _` || '_ \\ | |/ /  \\ V /  / _ \\ | | | | \n",
            "  | |  | | | || (_| || | | ||   <    | |  | (_) || |_| | \n",
            "  |_|  |_| |_| \\__,_||_| |_||_|\\_\\   |_|   \\___/  \\__,_| \n",
            "                                                         \n",
            "\n"
          ],
          "name": "stdout"
        }
      ]
    },
    {
      "cell_type": "code",
      "metadata": {
        "id": "yOswU9PaYw9b"
      },
      "source": [
        ""
      ],
      "execution_count": null,
      "outputs": []
    }
  ]
}